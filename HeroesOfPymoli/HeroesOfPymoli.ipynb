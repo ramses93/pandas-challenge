{
 "cells": [
  {
   "cell_type": "markdown",
   "metadata": {},
   "source": [
    "### Note\n",
    "* Instructions have been included for each segment. You do not have to follow them exactly, but they are included to help you think through the steps."
   ]
  },
  {
   "cell_type": "code",
   "execution_count": 1,
   "metadata": {},
   "outputs": [],
   "source": [
    "# Dependencies and Setup\n",
    "import pandas as pd\n",
    "import numpy as np\n",
    "\n",
    "# File to Load (Remember to Change These)\n",
    "file_to_load = \"Resources/purchase_data.csv\"\n",
    "\n",
    "# Read Purchasing File and store into Pandas data frame\n",
    "purchase_data = pd.read_csv(file_to_load)"
   ]
  },
  {
   "cell_type": "markdown",
   "metadata": {},
   "source": [
    "## Player Count"
   ]
  },
  {
   "cell_type": "markdown",
   "metadata": {},
   "source": [
    "* Display the total number of players\n"
   ]
  },
  {
   "cell_type": "code",
   "execution_count": 160,
   "metadata": {},
   "outputs": [
    {
     "output_type": "execute_result",
     "data": {
      "text/plain": [
       "   Total Players\n",
       "0            576"
      ],
      "text/html": "<div>\n<style scoped>\n    .dataframe tbody tr th:only-of-type {\n        vertical-align: middle;\n    }\n\n    .dataframe tbody tr th {\n        vertical-align: top;\n    }\n\n    .dataframe thead th {\n        text-align: right;\n    }\n</style>\n<table border=\"1\" class=\"dataframe\">\n  <thead>\n    <tr style=\"text-align: right;\">\n      <th></th>\n      <th>Total Players</th>\n    </tr>\n  </thead>\n  <tbody>\n    <tr>\n      <th>0</th>\n      <td>576</td>\n    </tr>\n  </tbody>\n</table>\n</div>"
     },
     "metadata": {},
     "execution_count": 160
    }
   ],
   "source": [
    "total_players = len(purchase_data[\"SN\"].value_counts())\r\n",
    "\r\n",
    "amount_of_players = pd.DataFrame({\"Total Players\":[total_players]})\r\n",
    "amount_of_players\r\n",
    "\r\n"
   ]
  },
  {
   "cell_type": "markdown",
   "metadata": {},
   "source": [
    "## Purchasing Analysis (Total)"
   ]
  },
  {
   "cell_type": "markdown",
   "metadata": {},
   "source": [
    "* Run basic calculations to obtain number of unique items, average price, etc.\n",
    "\n",
    "\n",
    "* Create a summary data frame to hold the results\n",
    "\n",
    "\n",
    "* Optional: give the displayed data cleaner formatting\n",
    "\n",
    "\n",
    "* Display the summary data frame\n"
   ]
  },
  {
   "cell_type": "code",
   "execution_count": 172,
   "metadata": {
    "scrolled": true
   },
   "outputs": [
    {
     "output_type": "display_data",
     "data": {
      "text/plain": "   Number of Unique Items Average Price  Number of Purchases Total Revenue\n0                     179         $3.05                  780     $2,379.77",
      "text/html": "<div>\n<style scoped>\n    .dataframe tbody tr th:only-of-type {\n        vertical-align: middle;\n    }\n\n    .dataframe tbody tr th {\n        vertical-align: top;\n    }\n\n    .dataframe thead th {\n        text-align: right;\n    }\n</style>\n<table border=\"1\" class=\"dataframe\">\n  <thead>\n    <tr style=\"text-align: right;\">\n      <th></th>\n      <th>Number of Unique Items</th>\n      <th>Average Price</th>\n      <th>Number of Purchases</th>\n      <th>Total Revenue</th>\n    </tr>\n  </thead>\n  <tbody>\n    <tr>\n      <th>0</th>\n      <td>179</td>\n      <td>$3.05</td>\n      <td>780</td>\n      <td>$2,379.77</td>\n    </tr>\n  </tbody>\n</table>\n</div>"
     },
     "metadata": {}
    }
   ],
   "source": [
    "data = {\n",
    "\"Number of Unique Items\": [len(purchase_data['Item ID'].unique())],\n",
    "\"Average Price\": [f'${\"{:,.2f}\".format(round(purchase_data[\"Price\"].mean(), 2))}'],\n",
    "\"Number of Purchases\": [len(purchase_data['Purchase ID'])],\n",
    "\"Total Revenue\": [f'${\"{:,.2f}\".format(purchase_data[\"Price\"].sum())}']\n",
    "}\n",
    "\n",
    "display(pd.DataFrame(data))"
   ]
  },
  {
   "cell_type": "markdown",
   "metadata": {},
   "source": [
    "## Gender Demographics"
   ]
  },
  {
   "cell_type": "markdown",
   "metadata": {},
   "source": [
    "* Percentage and Count of Male Players\n",
    "\n",
    "\n",
    "* Percentage and Count of Female Players\n",
    "\n",
    "\n",
    "* Percentage and Count of Other / Non-Disclosed\n",
    "\n",
    "\n"
   ]
  },
  {
   "cell_type": "code",
   "execution_count": 218,
   "metadata": {},
   "outputs": [
    {
     "output_type": "display_data",
     "data": {
      "text/plain": "<pandas.io.formats.style.Styler at 0x202ddaa5be0>",
      "text/html": "<style  type=\"text/css\" >\n</style><table id=\"T_53bee0b8_a2a1_11eb_b0ab_44af28e97c7f\" ><thead>    <tr>        <th class=\"blank level0\" ></th>        <th class=\"col_heading level0 col0\" >Total Count</th>        <th class=\"col_heading level0 col1\" >Percentage of Players</th>    </tr></thead><tbody>\n                <tr>\n                        <th id=\"T_53bee0b8_a2a1_11eb_b0ab_44af28e97c7flevel0_row0\" class=\"row_heading level0 row0\" >Male</th>\n                        <td id=\"T_53bee0b8_a2a1_11eb_b0ab_44af28e97c7frow0_col0\" class=\"data row0 col0\" >484</td>\n                        <td id=\"T_53bee0b8_a2a1_11eb_b0ab_44af28e97c7frow0_col1\" class=\"data row0 col1\" >84.03%</td>\n            </tr>\n            <tr>\n                        <th id=\"T_53bee0b8_a2a1_11eb_b0ab_44af28e97c7flevel0_row1\" class=\"row_heading level0 row1\" >Female</th>\n                        <td id=\"T_53bee0b8_a2a1_11eb_b0ab_44af28e97c7frow1_col0\" class=\"data row1 col0\" >81</td>\n                        <td id=\"T_53bee0b8_a2a1_11eb_b0ab_44af28e97c7frow1_col1\" class=\"data row1 col1\" >14.06%</td>\n            </tr>\n            <tr>\n                        <th id=\"T_53bee0b8_a2a1_11eb_b0ab_44af28e97c7flevel0_row2\" class=\"row_heading level0 row2\" >Other / Non-Disclosed</th>\n                        <td id=\"T_53bee0b8_a2a1_11eb_b0ab_44af28e97c7frow2_col0\" class=\"data row2 col0\" >11</td>\n                        <td id=\"T_53bee0b8_a2a1_11eb_b0ab_44af28e97c7frow2_col1\" class=\"data row2 col1\" >1.91%</td>\n            </tr>\n    </tbody></table>"
     },
     "metadata": {}
    }
   ],
   "source": [
    "gender_amount = purchase_data.groupby(\"Gender\")\n",
    "\n",
    "total_gender_amount = gender_amount.nunique()[\"SN\"]\n",
    "\n",
    "data = {\n",
    "    \"Total Count\": total_gender_amount,\n",
    "    \"Percentage of Players\": total_gender_amount/total_gender_amount.sum()*100,\n",
    "} \n",
    "\n",
    "df = pd.DataFrame(data)\n",
    "df.index.name = None\n",
    "\n",
    "display(df.sort_values([\"Total Count\"], ascending = False).style.format({\"Percentage of Players\":\"{:.2f}%\"}))"
   ]
  },
  {
   "cell_type": "markdown",
   "metadata": {},
   "source": [
    "\n",
    "## Purchasing Analysis (Gender)"
   ]
  },
  {
   "cell_type": "markdown",
   "metadata": {},
   "source": [
    "* Run basic calculations to obtain purchase count, avg. purchase price, avg. purchase total per person etc. by gender\n",
    "\n",
    "\n",
    "\n",
    "\n",
    "* Create a summary data frame to hold the results\n",
    "\n",
    "\n",
    "* Optional: give the displayed data cleaner formatting\n",
    "\n",
    "\n",
    "* Display the summary data frame"
   ]
  },
  {
   "cell_type": "code",
   "execution_count": 194,
   "metadata": {},
   "outputs": [
    {
     "output_type": "display_data",
     "data": {
      "text/plain": "<pandas.io.formats.style.Styler at 0x202e0c3d310>",
      "text/html": "<style  type=\"text/css\" >\n</style><table id=\"T_19452d3b_a241_11eb_b3aa_44af28e97c7f\" ><thead>    <tr>        <th class=\"blank level0\" ></th>        <th class=\"col_heading level0 col0\" >Purchase Count</th>        <th class=\"col_heading level0 col1\" >Average Purchase Price</th>        <th class=\"col_heading level0 col2\" >Total Purchase Value</th>        <th class=\"col_heading level0 col3\" >Avg Total Purchase per Person</th>    </tr>    <tr>        <th class=\"index_name level0\" >Gender</th>        <th class=\"blank\" ></th>        <th class=\"blank\" ></th>        <th class=\"blank\" ></th>        <th class=\"blank\" ></th>    </tr></thead><tbody>\n                <tr>\n                        <th id=\"T_19452d3b_a241_11eb_b3aa_44af28e97c7flevel0_row0\" class=\"row_heading level0 row0\" >Female</th>\n                        <td id=\"T_19452d3b_a241_11eb_b3aa_44af28e97c7frow0_col0\" class=\"data row0 col0\" >113</td>\n                        <td id=\"T_19452d3b_a241_11eb_b3aa_44af28e97c7frow0_col1\" class=\"data row0 col1\" >$3.20</td>\n                        <td id=\"T_19452d3b_a241_11eb_b3aa_44af28e97c7frow0_col2\" class=\"data row0 col2\" >$361.94</td>\n                        <td id=\"T_19452d3b_a241_11eb_b3aa_44af28e97c7frow0_col3\" class=\"data row0 col3\" >$4.47</td>\n            </tr>\n            <tr>\n                        <th id=\"T_19452d3b_a241_11eb_b3aa_44af28e97c7flevel0_row1\" class=\"row_heading level0 row1\" >Male</th>\n                        <td id=\"T_19452d3b_a241_11eb_b3aa_44af28e97c7frow1_col0\" class=\"data row1 col0\" >652</td>\n                        <td id=\"T_19452d3b_a241_11eb_b3aa_44af28e97c7frow1_col1\" class=\"data row1 col1\" >$3.02</td>\n                        <td id=\"T_19452d3b_a241_11eb_b3aa_44af28e97c7frow1_col2\" class=\"data row1 col2\" >$1967.64</td>\n                        <td id=\"T_19452d3b_a241_11eb_b3aa_44af28e97c7frow1_col3\" class=\"data row1 col3\" >$4.07</td>\n            </tr>\n            <tr>\n                        <th id=\"T_19452d3b_a241_11eb_b3aa_44af28e97c7flevel0_row2\" class=\"row_heading level0 row2\" >Other / Non-Disclosed</th>\n                        <td id=\"T_19452d3b_a241_11eb_b3aa_44af28e97c7frow2_col0\" class=\"data row2 col0\" >15</td>\n                        <td id=\"T_19452d3b_a241_11eb_b3aa_44af28e97c7frow2_col1\" class=\"data row2 col1\" >$3.35</td>\n                        <td id=\"T_19452d3b_a241_11eb_b3aa_44af28e97c7frow2_col2\" class=\"data row2 col2\" >$50.19</td>\n                        <td id=\"T_19452d3b_a241_11eb_b3aa_44af28e97c7frow2_col3\" class=\"data row2 col3\" >$4.56</td>\n            </tr>\n    </tbody></table>"
     },
     "metadata": {}
    }
   ],
   "source": [
    "gender_amount = purchase_data.groupby(\"Gender\")\n",
    "\n",
    "data = {\n",
    "    \"Purchase Count\": gender_amount.nunique()['Purchase ID'],\n",
    "    \"Average Purchase Price\": gender_amount[\"Price\"].mean(),\n",
    "    \"Total Purchase Value\": gender_amount[\"Price\"].sum(),\n",
    "    \"Avg Total Purchase per Person\": gender_amount[\"Price\"].sum()/gender_amount.nunique()[\"SN\"],\n",
    "} \n",
    "\n",
    "df = pd.DataFrame(data)\n",
    "\n",
    "formatdict = {\n",
    "    \"Average Purchase Price\": \"${:.2f}\",\n",
    "    \"Total Purchase Value\": \"${:.2f}\",\n",
    "    \"Avg Total Purchase per Person\": \"${:.2f}\",\n",
    "}\n",
    "\n",
    "display(df.style.format(formatdict))"
   ]
  },
  {
   "cell_type": "markdown",
   "metadata": {},
   "source": [
    "## Age Demographics"
   ]
  },
  {
   "cell_type": "markdown",
   "metadata": {},
   "source": [
    "* Establish bins for ages\n",
    "\n",
    "\n",
    "* Categorize the existing players using the age bins. Hint: use pd.cut()\n",
    "\n",
    "\n",
    "* Calculate the numbers and percentages by age group\n",
    "\n",
    "\n",
    "* Create a summary data frame to hold the results\n",
    "\n",
    "\n",
    "* Optional: round the percentage column to two decimal points\n",
    "\n",
    "\n",
    "* Display Age Demographics Table\n"
   ]
  },
  {
   "cell_type": "code",
   "execution_count": 228,
   "metadata": {},
   "outputs": [
    {
     "output_type": "display_data",
     "data": {
      "text/plain": "<pandas.io.formats.style.Styler at 0x202de1ff790>",
      "text/html": "<style  type=\"text/css\" >\n</style><table id=\"T_3bb05786_a2a2_11eb_bcfe_44af28e97c7f\" ><thead>    <tr>        <th class=\"blank level0\" ></th>        <th class=\"col_heading level0 col0\" >Total Count</th>        <th class=\"col_heading level0 col1\" >Percentage of Players</th>    </tr></thead><tbody>\n                <tr>\n                        <th id=\"T_3bb05786_a2a2_11eb_bcfe_44af28e97c7flevel0_row0\" class=\"row_heading level0 row0\" ><10</th>\n                        <td id=\"T_3bb05786_a2a2_11eb_bcfe_44af28e97c7frow0_col0\" class=\"data row0 col0\" >17</td>\n                        <td id=\"T_3bb05786_a2a2_11eb_bcfe_44af28e97c7frow0_col1\" class=\"data row0 col1\" >2.95%</td>\n            </tr>\n            <tr>\n                        <th id=\"T_3bb05786_a2a2_11eb_bcfe_44af28e97c7flevel0_row1\" class=\"row_heading level0 row1\" >10-14</th>\n                        <td id=\"T_3bb05786_a2a2_11eb_bcfe_44af28e97c7frow1_col0\" class=\"data row1 col0\" >22</td>\n                        <td id=\"T_3bb05786_a2a2_11eb_bcfe_44af28e97c7frow1_col1\" class=\"data row1 col1\" >3.82%</td>\n            </tr>\n            <tr>\n                        <th id=\"T_3bb05786_a2a2_11eb_bcfe_44af28e97c7flevel0_row2\" class=\"row_heading level0 row2\" >15-19</th>\n                        <td id=\"T_3bb05786_a2a2_11eb_bcfe_44af28e97c7frow2_col0\" class=\"data row2 col0\" >107</td>\n                        <td id=\"T_3bb05786_a2a2_11eb_bcfe_44af28e97c7frow2_col1\" class=\"data row2 col1\" >18.58%</td>\n            </tr>\n            <tr>\n                        <th id=\"T_3bb05786_a2a2_11eb_bcfe_44af28e97c7flevel0_row3\" class=\"row_heading level0 row3\" >20-24</th>\n                        <td id=\"T_3bb05786_a2a2_11eb_bcfe_44af28e97c7frow3_col0\" class=\"data row3 col0\" >258</td>\n                        <td id=\"T_3bb05786_a2a2_11eb_bcfe_44af28e97c7frow3_col1\" class=\"data row3 col1\" >44.79%</td>\n            </tr>\n            <tr>\n                        <th id=\"T_3bb05786_a2a2_11eb_bcfe_44af28e97c7flevel0_row4\" class=\"row_heading level0 row4\" >25-29</th>\n                        <td id=\"T_3bb05786_a2a2_11eb_bcfe_44af28e97c7frow4_col0\" class=\"data row4 col0\" >77</td>\n                        <td id=\"T_3bb05786_a2a2_11eb_bcfe_44af28e97c7frow4_col1\" class=\"data row4 col1\" >13.37%</td>\n            </tr>\n            <tr>\n                        <th id=\"T_3bb05786_a2a2_11eb_bcfe_44af28e97c7flevel0_row5\" class=\"row_heading level0 row5\" >30-34</th>\n                        <td id=\"T_3bb05786_a2a2_11eb_bcfe_44af28e97c7frow5_col0\" class=\"data row5 col0\" >52</td>\n                        <td id=\"T_3bb05786_a2a2_11eb_bcfe_44af28e97c7frow5_col1\" class=\"data row5 col1\" >9.03%</td>\n            </tr>\n            <tr>\n                        <th id=\"T_3bb05786_a2a2_11eb_bcfe_44af28e97c7flevel0_row6\" class=\"row_heading level0 row6\" >35-39</th>\n                        <td id=\"T_3bb05786_a2a2_11eb_bcfe_44af28e97c7frow6_col0\" class=\"data row6 col0\" >31</td>\n                        <td id=\"T_3bb05786_a2a2_11eb_bcfe_44af28e97c7frow6_col1\" class=\"data row6 col1\" >5.38%</td>\n            </tr>\n            <tr>\n                        <th id=\"T_3bb05786_a2a2_11eb_bcfe_44af28e97c7flevel0_row7\" class=\"row_heading level0 row7\" >40+</th>\n                        <td id=\"T_3bb05786_a2a2_11eb_bcfe_44af28e97c7frow7_col0\" class=\"data row7 col0\" >12</td>\n                        <td id=\"T_3bb05786_a2a2_11eb_bcfe_44af28e97c7frow7_col1\" class=\"data row7 col1\" >2.08%</td>\n            </tr>\n    </tbody></table>"
     },
     "metadata": {}
    }
   ],
   "source": [
    "bins = [0, 10, 15, 20, 25, 30, 35, 40, 9999999]\n",
    "\n",
    "manipulated_bins = []\n",
    "\n",
    "for bin in bins:\n",
    "    manipulated_bins.append(bin*.999)\n",
    "\n",
    "purchase_data['Age Group'] = pd.cut(purchase_data['Age'], manipulated_bins, labels = ['<10', '10-14', '15-19', '20-24', '25-29', '30-34', '35-39', '40+'], right=False)\n",
    "\n",
    "grouped = purchase_data.groupby(\"Age Group\")\n",
    "\n",
    "data = {\n",
    "    \"Total Count\": grouped.nunique()['SN'],\n",
    "    \"Percentage of Players\": grouped.nunique()['SN']/len(purchase_data[\"SN\"].value_counts())*100\n",
    "\n",
    "}\n",
    "\n",
    "\n",
    "df = pd.DataFrame(data)\n",
    "df.index.name = None\n",
    "\n",
    "\n",
    "formatdict = {\n",
    "    \"Percentage of Players\": \"{:.2f}%\",\n",
    "}\n",
    "\n",
    "display(df.style.format(formatdict))"
   ]
  },
  {
   "cell_type": "markdown",
   "metadata": {},
   "source": [
    "## Purchasing Analysis (Age)"
   ]
  },
  {
   "cell_type": "markdown",
   "metadata": {},
   "source": [
    "* Bin the purchase_data data frame by age\n",
    "\n",
    "\n",
    "* Run basic calculations to obtain purchase count, avg. purchase price, avg. purchase total per person etc. in the table below\n",
    "\n",
    "\n",
    "* Create a summary data frame to hold the results\n",
    "\n",
    "\n",
    "* Optional: give the displayed data cleaner formatting\n",
    "\n",
    "\n",
    "* Display the summary data frame"
   ]
  },
  {
   "cell_type": "code",
   "execution_count": 224,
   "metadata": {},
   "outputs": [
    {
     "output_type": "display_data",
     "data": {
      "text/plain": "<pandas.io.formats.style.Styler at 0x202de3ebe80>",
      "text/html": "<style  type=\"text/css\" >\n</style><table id=\"T_fbcc88f5_a2a1_11eb_9f33_44af28e97c7f\" ><thead>    <tr>        <th class=\"blank level0\" ></th>        <th class=\"col_heading level0 col0\" >Purchase Count</th>        <th class=\"col_heading level0 col1\" >Average Purchase Price</th>        <th class=\"col_heading level0 col2\" >Total Purchase Value</th>        <th class=\"col_heading level0 col3\" >Avg Total Purchase per Person</th>    </tr></thead><tbody>\n                <tr>\n                        <th id=\"T_fbcc88f5_a2a1_11eb_9f33_44af28e97c7flevel0_row0\" class=\"row_heading level0 row0\" ><10</th>\n                        <td id=\"T_fbcc88f5_a2a1_11eb_9f33_44af28e97c7frow0_col0\" class=\"data row0 col0\" >23</td>\n                        <td id=\"T_fbcc88f5_a2a1_11eb_9f33_44af28e97c7frow0_col1\" class=\"data row0 col1\" >$3.35</td>\n                        <td id=\"T_fbcc88f5_a2a1_11eb_9f33_44af28e97c7frow0_col2\" class=\"data row0 col2\" >$77.13</td>\n                        <td id=\"T_fbcc88f5_a2a1_11eb_9f33_44af28e97c7frow0_col3\" class=\"data row0 col3\" >$4.54</td>\n            </tr>\n            <tr>\n                        <th id=\"T_fbcc88f5_a2a1_11eb_9f33_44af28e97c7flevel0_row1\" class=\"row_heading level0 row1\" >10-14</th>\n                        <td id=\"T_fbcc88f5_a2a1_11eb_9f33_44af28e97c7frow1_col0\" class=\"data row1 col0\" >28</td>\n                        <td id=\"T_fbcc88f5_a2a1_11eb_9f33_44af28e97c7frow1_col1\" class=\"data row1 col1\" >$2.96</td>\n                        <td id=\"T_fbcc88f5_a2a1_11eb_9f33_44af28e97c7frow1_col2\" class=\"data row1 col2\" >$82.78</td>\n                        <td id=\"T_fbcc88f5_a2a1_11eb_9f33_44af28e97c7frow1_col3\" class=\"data row1 col3\" >$3.76</td>\n            </tr>\n            <tr>\n                        <th id=\"T_fbcc88f5_a2a1_11eb_9f33_44af28e97c7flevel0_row2\" class=\"row_heading level0 row2\" >15-19</th>\n                        <td id=\"T_fbcc88f5_a2a1_11eb_9f33_44af28e97c7frow2_col0\" class=\"data row2 col0\" >136</td>\n                        <td id=\"T_fbcc88f5_a2a1_11eb_9f33_44af28e97c7frow2_col1\" class=\"data row2 col1\" >$3.04</td>\n                        <td id=\"T_fbcc88f5_a2a1_11eb_9f33_44af28e97c7frow2_col2\" class=\"data row2 col2\" >$412.89</td>\n                        <td id=\"T_fbcc88f5_a2a1_11eb_9f33_44af28e97c7frow2_col3\" class=\"data row2 col3\" >$3.86</td>\n            </tr>\n            <tr>\n                        <th id=\"T_fbcc88f5_a2a1_11eb_9f33_44af28e97c7flevel0_row3\" class=\"row_heading level0 row3\" >20-24</th>\n                        <td id=\"T_fbcc88f5_a2a1_11eb_9f33_44af28e97c7frow3_col0\" class=\"data row3 col0\" >365</td>\n                        <td id=\"T_fbcc88f5_a2a1_11eb_9f33_44af28e97c7frow3_col1\" class=\"data row3 col1\" >$3.05</td>\n                        <td id=\"T_fbcc88f5_a2a1_11eb_9f33_44af28e97c7frow3_col2\" class=\"data row3 col2\" >$1114.06</td>\n                        <td id=\"T_fbcc88f5_a2a1_11eb_9f33_44af28e97c7frow3_col3\" class=\"data row3 col3\" >$4.32</td>\n            </tr>\n            <tr>\n                        <th id=\"T_fbcc88f5_a2a1_11eb_9f33_44af28e97c7flevel0_row4\" class=\"row_heading level0 row4\" >25-29</th>\n                        <td id=\"T_fbcc88f5_a2a1_11eb_9f33_44af28e97c7frow4_col0\" class=\"data row4 col0\" >101</td>\n                        <td id=\"T_fbcc88f5_a2a1_11eb_9f33_44af28e97c7frow4_col1\" class=\"data row4 col1\" >$2.90</td>\n                        <td id=\"T_fbcc88f5_a2a1_11eb_9f33_44af28e97c7frow4_col2\" class=\"data row4 col2\" >$293.00</td>\n                        <td id=\"T_fbcc88f5_a2a1_11eb_9f33_44af28e97c7frow4_col3\" class=\"data row4 col3\" >$3.81</td>\n            </tr>\n            <tr>\n                        <th id=\"T_fbcc88f5_a2a1_11eb_9f33_44af28e97c7flevel0_row5\" class=\"row_heading level0 row5\" >30-34</th>\n                        <td id=\"T_fbcc88f5_a2a1_11eb_9f33_44af28e97c7frow5_col0\" class=\"data row5 col0\" >73</td>\n                        <td id=\"T_fbcc88f5_a2a1_11eb_9f33_44af28e97c7frow5_col1\" class=\"data row5 col1\" >$2.93</td>\n                        <td id=\"T_fbcc88f5_a2a1_11eb_9f33_44af28e97c7frow5_col2\" class=\"data row5 col2\" >$214.00</td>\n                        <td id=\"T_fbcc88f5_a2a1_11eb_9f33_44af28e97c7frow5_col3\" class=\"data row5 col3\" >$4.12</td>\n            </tr>\n            <tr>\n                        <th id=\"T_fbcc88f5_a2a1_11eb_9f33_44af28e97c7flevel0_row6\" class=\"row_heading level0 row6\" >35-39</th>\n                        <td id=\"T_fbcc88f5_a2a1_11eb_9f33_44af28e97c7frow6_col0\" class=\"data row6 col0\" >41</td>\n                        <td id=\"T_fbcc88f5_a2a1_11eb_9f33_44af28e97c7frow6_col1\" class=\"data row6 col1\" >$3.60</td>\n                        <td id=\"T_fbcc88f5_a2a1_11eb_9f33_44af28e97c7frow6_col2\" class=\"data row6 col2\" >$147.67</td>\n                        <td id=\"T_fbcc88f5_a2a1_11eb_9f33_44af28e97c7frow6_col3\" class=\"data row6 col3\" >$4.76</td>\n            </tr>\n            <tr>\n                        <th id=\"T_fbcc88f5_a2a1_11eb_9f33_44af28e97c7flevel0_row7\" class=\"row_heading level0 row7\" >40+</th>\n                        <td id=\"T_fbcc88f5_a2a1_11eb_9f33_44af28e97c7frow7_col0\" class=\"data row7 col0\" >13</td>\n                        <td id=\"T_fbcc88f5_a2a1_11eb_9f33_44af28e97c7frow7_col1\" class=\"data row7 col1\" >$2.94</td>\n                        <td id=\"T_fbcc88f5_a2a1_11eb_9f33_44af28e97c7frow7_col2\" class=\"data row7 col2\" >$38.24</td>\n                        <td id=\"T_fbcc88f5_a2a1_11eb_9f33_44af28e97c7frow7_col3\" class=\"data row7 col3\" >$3.19</td>\n            </tr>\n    </tbody></table>"
     },
     "metadata": {}
    }
   ],
   "source": [
    "bins = [0, 10, 15, 20, 25, 30, 35, 40, 9999999]\n",
    "\n",
    "manipulated_bins = []\n",
    "\n",
    "for bin in bins:\n",
    "    manipulated_bins.append(bin*.999)\n",
    "\n",
    "purchase_data['Age Group'] = pd.cut(purchase_data['Age'], manipulated_bins, labels = ['<10', '10-14', '15-19', '20-24', '25-29', '30-34', '35-39', '40+'], right=False)\n",
    "\n",
    "grouped = purchase_data.groupby(\"Age Group\")\n",
    "\n",
    "data = {\n",
    "    \"Purchase Count\": grouped['Purchase ID'].count(),\n",
    "    \"Average Purchase Price\": grouped['Price'].mean(),\n",
    "    \"Total Purchase Value\": grouped['Price'].sum(),\n",
    "    \"Avg Total Purchase per Person\": grouped[\"Price\"].sum()/grouped.nunique()[\"SN\"],\n",
    "}\n",
    "\n",
    "\n",
    "df = pd.DataFrame(data)\n",
    "df.index.name = None\n",
    "\n",
    "\n",
    "formatdict = {\n",
    "    \"Average Purchase Price\": \"${:.2f}\",\n",
    "    \"Total Purchase Value\": \"${:.2f}\",\n",
    "    \"Avg Total Purchase per Person\": \"${:.2f}\",\n",
    "}\n",
    "\n",
    "display(df.style.format(formatdict))"
   ]
  },
  {
   "cell_type": "markdown",
   "metadata": {},
   "source": [
    "## Top Spenders"
   ]
  },
  {
   "cell_type": "markdown",
   "metadata": {},
   "source": [
    "* Run basic calculations to obtain the results in the table below\n",
    "\n",
    "\n",
    "* Create a summary data frame to hold the results\n",
    "\n",
    "\n",
    "* Sort the total purchase value column in descending order\n",
    "\n",
    "\n",
    "* Optional: give the displayed data cleaner formatting\n",
    "\n",
    "\n",
    "* Display a preview of the summary data frame\n",
    "\n"
   ]
  },
  {
   "cell_type": "code",
   "execution_count": 237,
   "metadata": {},
   "outputs": [
    {
     "output_type": "display_data",
     "data": {
      "text/plain": "<pandas.io.formats.style.Styler at 0x202dde612e0>",
      "text/html": "<style  type=\"text/css\" >\n</style><table id=\"T_1bcc1e42_a2a3_11eb_bce7_44af28e97c7f\" ><thead>    <tr>        <th class=\"blank level0\" ></th>        <th class=\"col_heading level0 col0\" >Purchase Count</th>        <th class=\"col_heading level0 col1\" >Average Purchase Price</th>        <th class=\"col_heading level0 col2\" >Total Purchase Value</th>    </tr>    <tr>        <th class=\"index_name level0\" >SN</th>        <th class=\"blank\" ></th>        <th class=\"blank\" ></th>        <th class=\"blank\" ></th>    </tr></thead><tbody>\n                <tr>\n                        <th id=\"T_1bcc1e42_a2a3_11eb_bce7_44af28e97c7flevel0_row0\" class=\"row_heading level0 row0\" >Lisosia93</th>\n                        <td id=\"T_1bcc1e42_a2a3_11eb_bce7_44af28e97c7frow0_col0\" class=\"data row0 col0\" >5</td>\n                        <td id=\"T_1bcc1e42_a2a3_11eb_bce7_44af28e97c7frow0_col1\" class=\"data row0 col1\" >$3.79</td>\n                        <td id=\"T_1bcc1e42_a2a3_11eb_bce7_44af28e97c7frow0_col2\" class=\"data row0 col2\" >$18.96</td>\n            </tr>\n            <tr>\n                        <th id=\"T_1bcc1e42_a2a3_11eb_bce7_44af28e97c7flevel0_row1\" class=\"row_heading level0 row1\" >Idastidru52</th>\n                        <td id=\"T_1bcc1e42_a2a3_11eb_bce7_44af28e97c7frow1_col0\" class=\"data row1 col0\" >4</td>\n                        <td id=\"T_1bcc1e42_a2a3_11eb_bce7_44af28e97c7frow1_col1\" class=\"data row1 col1\" >$3.86</td>\n                        <td id=\"T_1bcc1e42_a2a3_11eb_bce7_44af28e97c7frow1_col2\" class=\"data row1 col2\" >$15.45</td>\n            </tr>\n            <tr>\n                        <th id=\"T_1bcc1e42_a2a3_11eb_bce7_44af28e97c7flevel0_row2\" class=\"row_heading level0 row2\" >Chamjask73</th>\n                        <td id=\"T_1bcc1e42_a2a3_11eb_bce7_44af28e97c7frow2_col0\" class=\"data row2 col0\" >3</td>\n                        <td id=\"T_1bcc1e42_a2a3_11eb_bce7_44af28e97c7frow2_col1\" class=\"data row2 col1\" >$4.61</td>\n                        <td id=\"T_1bcc1e42_a2a3_11eb_bce7_44af28e97c7frow2_col2\" class=\"data row2 col2\" >$13.83</td>\n            </tr>\n            <tr>\n                        <th id=\"T_1bcc1e42_a2a3_11eb_bce7_44af28e97c7flevel0_row3\" class=\"row_heading level0 row3\" >Iral74</th>\n                        <td id=\"T_1bcc1e42_a2a3_11eb_bce7_44af28e97c7frow3_col0\" class=\"data row3 col0\" >4</td>\n                        <td id=\"T_1bcc1e42_a2a3_11eb_bce7_44af28e97c7frow3_col1\" class=\"data row3 col1\" >$3.40</td>\n                        <td id=\"T_1bcc1e42_a2a3_11eb_bce7_44af28e97c7frow3_col2\" class=\"data row3 col2\" >$13.62</td>\n            </tr>\n            <tr>\n                        <th id=\"T_1bcc1e42_a2a3_11eb_bce7_44af28e97c7flevel0_row4\" class=\"row_heading level0 row4\" >Iskadarya95</th>\n                        <td id=\"T_1bcc1e42_a2a3_11eb_bce7_44af28e97c7frow4_col0\" class=\"data row4 col0\" >3</td>\n                        <td id=\"T_1bcc1e42_a2a3_11eb_bce7_44af28e97c7frow4_col1\" class=\"data row4 col1\" >$4.37</td>\n                        <td id=\"T_1bcc1e42_a2a3_11eb_bce7_44af28e97c7frow4_col2\" class=\"data row4 col2\" >$13.10</td>\n            </tr>\n    </tbody></table>"
     },
     "metadata": {}
    }
   ],
   "source": [
    "grouped = purchase_data.groupby(\"SN\")\n",
    "\n",
    "data = {\n",
    "    'Purchase Count': grouped['Purchase ID'].count(),\n",
    "    'Average Purchase Price': grouped['Price'].mean(),\n",
    "    'Total Purchase Value': grouped['Price'].sum(),\n",
    "}\n",
    "\n",
    "df = pd.DataFrame(data)\n",
    "formatdict = {\n",
    "    \"Average Purchase Price\": \"${:.2f}\",\n",
    "    \"Total Purchase Value\": \"${:.2f}\",\n",
    "}\n",
    "\n",
    "display(df.sort_values([\"Total Purchase Value\"], ascending = False).head(5).style.format(formatdict))\n"
   ]
  },
  {
   "cell_type": "markdown",
   "metadata": {},
   "source": [
    "## Most Popular Items"
   ]
  },
  {
   "cell_type": "markdown",
   "metadata": {},
   "source": [
    "* Retrieve the Item ID, Item Name, and Item Price columns\n",
    "\n",
    "\n",
    "* Group by Item ID and Item Name. Perform calculations to obtain purchase count, average item price, and total purchase value\n",
    "\n",
    "\n",
    "* Create a summary data frame to hold the results\n",
    "\n",
    "\n",
    "* Sort the purchase count column in descending order\n",
    "\n",
    "\n",
    "* Optional: give the displayed data cleaner formatting\n",
    "\n",
    "\n",
    "* Display a preview of the summary data frame\n",
    "\n",
    "\n"
   ]
  },
  {
   "cell_type": "code",
   "execution_count": 253,
   "metadata": {},
   "outputs": [
    {
     "output_type": "display_data",
     "data": {
      "text/plain": "<pandas.io.formats.style.Styler at 0x202de643f40>",
      "text/html": "<style  type=\"text/css\" >\n</style><table id=\"T_ab52bac1_a2a5_11eb_bcae_44af28e97c7f\" ><thead>    <tr>        <th class=\"blank\" ></th>        <th class=\"blank level0\" ></th>        <th class=\"col_heading level0 col0\" >Purchase Count</th>        <th class=\"col_heading level0 col1\" >Item Price</th>        <th class=\"col_heading level0 col2\" >Total Purchase Value</th>    </tr>    <tr>        <th class=\"index_name level0\" >Item ID</th>        <th class=\"index_name level1\" >Item Name</th>        <th class=\"blank\" ></th>        <th class=\"blank\" ></th>        <th class=\"blank\" ></th>    </tr></thead><tbody>\n                <tr>\n                        <th id=\"T_ab52bac1_a2a5_11eb_bcae_44af28e97c7flevel0_row0\" class=\"row_heading level0 row0\" >92</th>\n                        <th id=\"T_ab52bac1_a2a5_11eb_bcae_44af28e97c7flevel1_row0\" class=\"row_heading level1 row0\" >Final Critic</th>\n                        <td id=\"T_ab52bac1_a2a5_11eb_bcae_44af28e97c7frow0_col0\" class=\"data row0 col0\" >13</td>\n                        <td id=\"T_ab52bac1_a2a5_11eb_bcae_44af28e97c7frow0_col1\" class=\"data row0 col1\" >$4.61</td>\n                        <td id=\"T_ab52bac1_a2a5_11eb_bcae_44af28e97c7frow0_col2\" class=\"data row0 col2\" >$59.99</td>\n            </tr>\n            <tr>\n                        <th id=\"T_ab52bac1_a2a5_11eb_bcae_44af28e97c7flevel0_row1\" class=\"row_heading level0 row1\" >178</th>\n                        <th id=\"T_ab52bac1_a2a5_11eb_bcae_44af28e97c7flevel1_row1\" class=\"row_heading level1 row1\" >Oathbreaker, Last Hope of the Breaking Storm</th>\n                        <td id=\"T_ab52bac1_a2a5_11eb_bcae_44af28e97c7frow1_col0\" class=\"data row1 col0\" >12</td>\n                        <td id=\"T_ab52bac1_a2a5_11eb_bcae_44af28e97c7frow1_col1\" class=\"data row1 col1\" >$4.23</td>\n                        <td id=\"T_ab52bac1_a2a5_11eb_bcae_44af28e97c7frow1_col2\" class=\"data row1 col2\" >$50.76</td>\n            </tr>\n            <tr>\n                        <th id=\"T_ab52bac1_a2a5_11eb_bcae_44af28e97c7flevel0_row2\" class=\"row_heading level0 row2\" >145</th>\n                        <th id=\"T_ab52bac1_a2a5_11eb_bcae_44af28e97c7flevel1_row2\" class=\"row_heading level1 row2\" >Fiery Glass Crusader</th>\n                        <td id=\"T_ab52bac1_a2a5_11eb_bcae_44af28e97c7frow2_col0\" class=\"data row2 col0\" >9</td>\n                        <td id=\"T_ab52bac1_a2a5_11eb_bcae_44af28e97c7frow2_col1\" class=\"data row2 col1\" >$4.58</td>\n                        <td id=\"T_ab52bac1_a2a5_11eb_bcae_44af28e97c7frow2_col2\" class=\"data row2 col2\" >$41.22</td>\n            </tr>\n            <tr>\n                        <th id=\"T_ab52bac1_a2a5_11eb_bcae_44af28e97c7flevel0_row3\" class=\"row_heading level0 row3\" >132</th>\n                        <th id=\"T_ab52bac1_a2a5_11eb_bcae_44af28e97c7flevel1_row3\" class=\"row_heading level1 row3\" >Persuasion</th>\n                        <td id=\"T_ab52bac1_a2a5_11eb_bcae_44af28e97c7frow3_col0\" class=\"data row3 col0\" >9</td>\n                        <td id=\"T_ab52bac1_a2a5_11eb_bcae_44af28e97c7frow3_col1\" class=\"data row3 col1\" >$3.22</td>\n                        <td id=\"T_ab52bac1_a2a5_11eb_bcae_44af28e97c7frow3_col2\" class=\"data row3 col2\" >$28.99</td>\n            </tr>\n            <tr>\n                        <th id=\"T_ab52bac1_a2a5_11eb_bcae_44af28e97c7flevel0_row4\" class=\"row_heading level0 row4\" >108</th>\n                        <th id=\"T_ab52bac1_a2a5_11eb_bcae_44af28e97c7flevel1_row4\" class=\"row_heading level1 row4\" >Extraction, Quickblade Of Trembling Hands</th>\n                        <td id=\"T_ab52bac1_a2a5_11eb_bcae_44af28e97c7frow4_col0\" class=\"data row4 col0\" >9</td>\n                        <td id=\"T_ab52bac1_a2a5_11eb_bcae_44af28e97c7frow4_col1\" class=\"data row4 col1\" >$3.53</td>\n                        <td id=\"T_ab52bac1_a2a5_11eb_bcae_44af28e97c7frow4_col2\" class=\"data row4 col2\" >$31.77</td>\n            </tr>\n    </tbody></table>"
     },
     "metadata": {}
    }
   ],
   "source": [
    "sliced = purchase_data[['Item ID', 'Item Name', 'Price']]\n",
    "grouped = purchase_data.groupby([\"Item ID\", 'Item Name'])\n",
    "\n",
    "data = {\n",
    "    'Purchase Count': grouped['Price'].count(),\n",
    "    'Item Price': grouped['Price'].sum()/grouped['Price'].count(),\n",
    "    'Total Purchase Value': grouped['Price'].sum(),\n",
    "}\n",
    "\n",
    "df = pd.DataFrame(data)\n",
    "formatdict = {\n",
    "    \"Item Price\": \"${:.2f}\",\n",
    "    \"Total Purchase Value\": \"${:.2f}\",\n",
    "}\n",
    "\n",
    "display(df.sort_values([\"Purchase Count\"], ascending = False).head(5).style.format(formatdict))"
   ]
  },
  {
   "cell_type": "markdown",
   "metadata": {},
   "source": [
    "## Most Profitable Items"
   ]
  },
  {
   "cell_type": "markdown",
   "metadata": {},
   "source": [
    "* Sort the above table by total purchase value in descending order\n",
    "\n",
    "\n",
    "* Optional: give the displayed data cleaner formatting\n",
    "\n",
    "\n",
    "* Display a preview of the data frame\n",
    "\n"
   ]
  },
  {
   "cell_type": "code",
   "execution_count": 10,
   "metadata": {
    "scrolled": true
   },
   "outputs": [
    {
     "data": {
      "text/html": [
       "<div>\n",
       "<style scoped>\n",
       "    .dataframe tbody tr th:only-of-type {\n",
       "        vertical-align: middle;\n",
       "    }\n",
       "\n",
       "    .dataframe tbody tr th {\n",
       "        vertical-align: top;\n",
       "    }\n",
       "\n",
       "    .dataframe thead th {\n",
       "        text-align: right;\n",
       "    }\n",
       "</style>\n",
       "<table border=\"1\" class=\"dataframe\">\n",
       "  <thead>\n",
       "    <tr style=\"text-align: right;\">\n",
       "      <th></th>\n",
       "      <th></th>\n",
       "      <th>Purchase Count</th>\n",
       "      <th>Item Price</th>\n",
       "      <th>Total Purchase Value</th>\n",
       "    </tr>\n",
       "    <tr>\n",
       "      <th>Item ID</th>\n",
       "      <th>Item Name</th>\n",
       "      <th></th>\n",
       "      <th></th>\n",
       "      <th></th>\n",
       "    </tr>\n",
       "  </thead>\n",
       "  <tbody>\n",
       "    <tr>\n",
       "      <th>92</th>\n",
       "      <th>Final Critic</th>\n",
       "      <td>13</td>\n",
       "      <td>$4.61</td>\n",
       "      <td>$59.99</td>\n",
       "    </tr>\n",
       "    <tr>\n",
       "      <th>178</th>\n",
       "      <th>Oathbreaker, Last Hope of the Breaking Storm</th>\n",
       "      <td>12</td>\n",
       "      <td>$4.23</td>\n",
       "      <td>$50.76</td>\n",
       "    </tr>\n",
       "    <tr>\n",
       "      <th>82</th>\n",
       "      <th>Nirvana</th>\n",
       "      <td>9</td>\n",
       "      <td>$4.90</td>\n",
       "      <td>$44.10</td>\n",
       "    </tr>\n",
       "    <tr>\n",
       "      <th>145</th>\n",
       "      <th>Fiery Glass Crusader</th>\n",
       "      <td>9</td>\n",
       "      <td>$4.58</td>\n",
       "      <td>$41.22</td>\n",
       "    </tr>\n",
       "    <tr>\n",
       "      <th>103</th>\n",
       "      <th>Singed Scalpel</th>\n",
       "      <td>8</td>\n",
       "      <td>$4.35</td>\n",
       "      <td>$34.80</td>\n",
       "    </tr>\n",
       "  </tbody>\n",
       "</table>\n",
       "</div>"
      ],
      "text/plain": [
       "                                                     Purchase Count  \\\n",
       "Item ID Item Name                                                     \n",
       "92      Final Critic                                             13   \n",
       "178     Oathbreaker, Last Hope of the Breaking Storm             12   \n",
       "82      Nirvana                                                   9   \n",
       "145     Fiery Glass Crusader                                      9   \n",
       "103     Singed Scalpel                                            8   \n",
       "\n",
       "                                                     Item Price  \\\n",
       "Item ID Item Name                                                 \n",
       "92      Final Critic                                      $4.61   \n",
       "178     Oathbreaker, Last Hope of the Breaking Storm      $4.23   \n",
       "82      Nirvana                                           $4.90   \n",
       "145     Fiery Glass Crusader                              $4.58   \n",
       "103     Singed Scalpel                                    $4.35   \n",
       "\n",
       "                                                     Total Purchase Value  \n",
       "Item ID Item Name                                                          \n",
       "92      Final Critic                                               $59.99  \n",
       "178     Oathbreaker, Last Hope of the Breaking Storm               $50.76  \n",
       "82      Nirvana                                                    $44.10  \n",
       "145     Fiery Glass Crusader                                       $41.22  \n",
       "103     Singed Scalpel                                             $34.80  "
      ]
     },
     "execution_count": 10,
     "metadata": {},
     "output_type": "execute_result"
    }
   ],
   "source": [
    "sliced = purchase_data[['Item ID', 'Item Name', 'Price']]\n",
    "grouped = purchase_data.groupby([\"Item ID\", 'Item Name'])\n",
    "\n",
    "data = {\n",
    "    'Purchase Count': grouped['Price'].count(),\n",
    "    'Item Price': grouped['Price'].sum()/grouped['Price'].count(),\n",
    "    'Total Purchase Value': grouped['Price'].sum(),\n",
    "}\n",
    "\n",
    "df = pd.DataFrame(data)\n",
    "formatdict = {\n",
    "    \"Item Price\": \"${:.2f}\",\n",
    "    \"Total Purchase Value\": \"${:.2f}\",\n",
    "}\n",
    "\n",
    "display(df.sort_values([\"Total Purchase Value\"], ascending = False).head(5).style.format(formatdict))"
   ]
  }
 ],
 "metadata": {
  "anaconda-cloud": {},
  "kernel_info": {
   "name": "python3"
  },
  "kernelspec": {
   "name": "python385jvsc74a57bd0ab59e8833a1c1a953fc61f7ebdf031460480fd348b396cef269440458dbce55f",
   "display_name": "Python 3.8.5 64-bit ('base': conda)"
  },
  "language_info": {
   "codemirror_mode": {
    "name": "ipython",
    "version": 3
   },
   "file_extension": ".py",
   "mimetype": "text/x-python",
   "name": "python",
   "nbconvert_exporter": "python",
   "pygments_lexer": "ipython3",
   "version": "3.8.5"
  },
  "latex_envs": {
   "LaTeX_envs_menu_present": true,
   "autoclose": false,
   "autocomplete": true,
   "bibliofile": "biblio.bib",
   "cite_by": "apalike",
   "current_citInitial": 1,
   "eqLabelWithNumbers": true,
   "eqNumInitial": 1,
   "hotkeys": {
    "equation": "Ctrl-E",
    "itemize": "Ctrl-I"
   },
   "labels_anchors": false,
   "latex_user_defs": false,
   "report_style_numbering": false,
   "user_envs_cfg": false
  },
  "nteract": {
   "version": "0.2.0"
  }
 },
 "nbformat": 4,
 "nbformat_minor": 2
}